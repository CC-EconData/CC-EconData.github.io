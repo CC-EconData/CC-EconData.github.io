{
  "nbformat": 4,
  "nbformat_minor": 0,
  "metadata": {
    "colab": {
      "name": "hw7scrape.ipynb",
      "provenance": [],
      "collapsed_sections": []
    },
    "kernelspec": {
      "name": "python3",
      "display_name": "Python 3"
    },
    "language_info": {
      "name": "python"
    }
  },
  "cells": [
    {
      "cell_type": "code",
      "metadata": {
        "id": "_RIKejRdppE5"
      },
      "source": [
        "import requests\n",
        "import pandas as pd\n",
        "from bs4 import BeautifulSoup"
      ],
      "execution_count": 2,
      "outputs": []
    },
    {
      "cell_type": "code",
      "metadata": {
        "id": "kyIR_CYApxsC"
      },
      "source": [
        "url='https://www.theathenian.co.uk/menu'"
      ],
      "execution_count": 3,
      "outputs": []
    },
    {
      "cell_type": "code",
      "metadata": {
        "id": "DgIx7U6ep9NB"
      },
      "source": [
        "html = requests.get(url)\n",
        "soup = BeautifulSoup(html.content, 'html.parser')"
      ],
      "execution_count": 4,
      "outputs": []
    },
    {
      "cell_type": "code",
      "metadata": {
        "id": "jYOKfKKdp_L0"
      },
      "source": [
        "soup"
      ],
      "execution_count": null,
      "outputs": []
    },
    {
      "cell_type": "code",
      "metadata": {
        "id": "T_lULWlSuTIc"
      },
      "source": [
        "table=soup.find('div',id='block-yui_3_17_2_1_1638469090975_18126')"
      ],
      "execution_count": 6,
      "outputs": []
    },
    {
      "cell_type": "code",
      "metadata": {
        "id": "-Dk6GQC1uayB",
        "colab": {
          "base_uri": "https://localhost:8080/"
        },
        "outputId": "501523be-a9b7-4809-f096-dfa6c9be2531"
      },
      "source": [
        "table"
      ],
      "execution_count": 7,
      "outputs": [
        {
          "output_type": "execute_result",
          "data": {
            "text/plain": [
              "<div class=\"sqs-block menu-block sqs-block-menu\" data-block-type=\"18\" id=\"block-yui_3_17_2_1_1638469090975_18126\"><div class=\"sqs-block-content\">\n",
              "<div class=\"menu-wrapper menu-style-classic\">\n",
              "<div class=\"menus \">\n",
              "<div class=\"menu js-menu menu-1-a00443c0-9585-4a63-b8e3-af8e40b86757\" style=\"display: block\">\n",
              "<div class=\"menu-section\">\n",
              "<div class=\"menu-section-header\">\n",
              "<div class=\"menu-section-title\">Our most popular special is back for good!</div>\n",
              "<div class=\"menu-section-description\">All served with lettuce, tomatoes, red onions, parsley, oregano fries and a dip of your choice</div>\n",
              "</div>\n",
              "<div class=\"menu-items\">\n",
              "<div class=\"menu-item\">\n",
              "<span class=\"menu-item-price-top\">\n",
              "<span class=\"currency-sign\">£</span>8.9 \n",
              "                  \n",
              "                </span>\n",
              "<div class=\"menu-item-title\">The Beast Chicken Gyros Wrap</div>\n",
              "<div class=\"menu-item-description\">Chicken Gyros marinated in Greek herbs, halloumi fries and olive oil. Served inside our Greek handmade pita</div>\n",
              "<div class=\"menu-item-price-bottom\">\n",
              "<span class=\"currency-sign\">£</span>8.9 \n",
              "                  \n",
              "                </div>\n",
              "</div>\n",
              "<div class=\"menu-item\">\n",
              "<span class=\"menu-item-price-top\">\n",
              "<span class=\"currency-sign\">£</span>10.9 \n",
              "                  \n",
              "                </span>\n",
              "<div class=\"menu-item-title\">The Beast Chicken Gyros Box</div>\n",
              "<div class=\"menu-item-description\">Chicken Gyros marinated in Greek herbs, halloumi fries and olive oil. Served inside a box with our Greek handmade pita</div>\n",
              "<div class=\"menu-item-price-bottom\">\n",
              "<span class=\"currency-sign\">£</span>10.9 \n",
              "                  \n",
              "                </div>\n",
              "</div>\n",
              "<div class=\"menu-item\">\n",
              "<span class=\"menu-item-price-top\">\n",
              "<span class=\"currency-sign\">£</span>8.9 \n",
              "                  \n",
              "                </span>\n",
              "<div class=\"menu-item-title\">The Beast Pork Gyros Wrap</div>\n",
              "<div class=\"menu-item-description\">Pork Gyros marinated in Greek herbs, halloumi fries and olive oil. Served inside our Greek handmade pita</div>\n",
              "<div class=\"menu-item-price-bottom\">\n",
              "<span class=\"currency-sign\">£</span>8.9 \n",
              "                  \n",
              "                </div>\n",
              "</div>\n",
              "<div class=\"menu-item\">\n",
              "<span class=\"menu-item-price-top\">\n",
              "<span class=\"currency-sign\">£</span>10.9 \n",
              "                  \n",
              "                </span>\n",
              "<div class=\"menu-item-title\">The Beast Pork Gyros Box</div>\n",
              "<div class=\"menu-item-description\">Pork Gyros marinated in Greek herbs, halloumi fries and olive oil. Served inside a box with our Greek handmade pita</div>\n",
              "<div class=\"menu-item-price-bottom\">\n",
              "<span class=\"currency-sign\">£</span>10.9 \n",
              "                  \n",
              "                </div>\n",
              "</div>\n",
              "<div class=\"menu-item\">\n",
              "<span class=\"menu-item-price-top\">\n",
              "<span class=\"currency-sign\">£</span>8.9 \n",
              "                  \n",
              "                </span>\n",
              "<div class=\"menu-item-title\">The Beast Vegan Gyros Wrap (V)</div>\n",
              "<div class=\"menu-item-description\">Vegan Seitan Gyros marinated in Greek herbs, vegan halloumi fries and olive oil. Served inside our Greek handmade pita</div>\n",
              "<div class=\"menu-item-price-bottom\">\n",
              "<span class=\"currency-sign\">£</span>8.9 \n",
              "                  \n",
              "                </div>\n",
              "</div>\n",
              "<div class=\"menu-item\">\n",
              "<span class=\"menu-item-price-top\">\n",
              "<span class=\"currency-sign\">£</span>10.9 \n",
              "                  \n",
              "                </span>\n",
              "<div class=\"menu-item-title\">The Beast Vegan Gyros Box (V)</div>\n",
              "<div class=\"menu-item-description\">Vegan Seitan Gyros marinated in Greek herbs, vegan halloumi fries and olive oil. Served inside a box with our Greek handmade pita</div>\n",
              "<div class=\"menu-item-price-bottom\">\n",
              "<span class=\"currency-sign\">£</span>10.9 \n",
              "                  \n",
              "                </div>\n",
              "</div>\n",
              "</div>\n",
              "</div>\n",
              "</div>\n",
              "</div>\n",
              "</div> <!-- END .menu-wrapper -->\n",
              "</div></div>"
            ]
          },
          "metadata": {},
          "execution_count": 7
        }
      ]
    },
    {
      "cell_type": "code",
      "metadata": {
        "id": "YPWAUZ-0wwdX"
      },
      "source": [
        "headings=table.findAll('div',class_='menu-item-title')"
      ],
      "execution_count": 8,
      "outputs": []
    },
    {
      "cell_type": "code",
      "metadata": {
        "colab": {
          "base_uri": "https://localhost:8080/"
        },
        "id": "C_y_CKO7xKP4",
        "outputId": "06e91437-0fb2-4caa-af4b-6cd470e8627c"
      },
      "source": [
        "headings"
      ],
      "execution_count": 9,
      "outputs": [
        {
          "output_type": "execute_result",
          "data": {
            "text/plain": [
              "[<div class=\"menu-item-title\">The Beast Chicken Gyros Wrap</div>,\n",
              " <div class=\"menu-item-title\">The Beast Chicken Gyros Box</div>,\n",
              " <div class=\"menu-item-title\">The Beast Pork Gyros Wrap</div>,\n",
              " <div class=\"menu-item-title\">The Beast Pork Gyros Box</div>,\n",
              " <div class=\"menu-item-title\">The Beast Vegan Gyros Wrap (V)</div>,\n",
              " <div class=\"menu-item-title\">The Beast Vegan Gyros Box (V)</div>]"
            ]
          },
          "metadata": {},
          "execution_count": 9
        }
      ]
    },
    {
      "cell_type": "code",
      "metadata": {
        "id": "6DOH58-s02wO"
      },
      "source": [
        "values=table.findAll('div',class_='menu-item-price-bottom')"
      ],
      "execution_count": 10,
      "outputs": []
    },
    {
      "cell_type": "code",
      "metadata": {
        "colab": {
          "base_uri": "https://localhost:8080/"
        },
        "id": "7OUcJam91Ix4",
        "outputId": "5c4c5e98-211a-4767-9ca1-d5597c639d1d"
      },
      "source": [
        "values"
      ],
      "execution_count": 11,
      "outputs": [
        {
          "output_type": "execute_result",
          "data": {
            "text/plain": [
              "[<div class=\"menu-item-price-bottom\">\n",
              " <span class=\"currency-sign\">£</span>8.9 \n",
              "                   \n",
              "                 </div>, <div class=\"menu-item-price-bottom\">\n",
              " <span class=\"currency-sign\">£</span>10.9 \n",
              "                   \n",
              "                 </div>, <div class=\"menu-item-price-bottom\">\n",
              " <span class=\"currency-sign\">£</span>8.9 \n",
              "                   \n",
              "                 </div>, <div class=\"menu-item-price-bottom\">\n",
              " <span class=\"currency-sign\">£</span>10.9 \n",
              "                   \n",
              "                 </div>, <div class=\"menu-item-price-bottom\">\n",
              " <span class=\"currency-sign\">£</span>8.9 \n",
              "                   \n",
              "                 </div>, <div class=\"menu-item-price-bottom\">\n",
              " <span class=\"currency-sign\">£</span>10.9 \n",
              "                   \n",
              "                 </div>]"
            ]
          },
          "metadata": {},
          "execution_count": 11
        }
      ]
    },
    {
      "cell_type": "code",
      "metadata": {
        "colab": {
          "base_uri": "https://localhost:8080/"
        },
        "id": "YKKtMaSR2NdO",
        "outputId": "fc91bc99-f667-4f0d-fa67-3937847652da"
      },
      "source": [
        "headings[2]"
      ],
      "execution_count": 12,
      "outputs": [
        {
          "output_type": "execute_result",
          "data": {
            "text/plain": [
              "<div class=\"menu-item-title\">The Beast Pork Gyros Wrap</div>"
            ]
          },
          "metadata": {},
          "execution_count": 12
        }
      ]
    },
    {
      "cell_type": "code",
      "metadata": {
        "id": "ynEc1-Hr2aDr"
      },
      "source": [
        "headings_list=[i.text for i in headings]"
      ],
      "execution_count": 13,
      "outputs": []
    },
    {
      "cell_type": "code",
      "metadata": {
        "colab": {
          "base_uri": "https://localhost:8080/"
        },
        "id": "-PDWP8c02bQo",
        "outputId": "b8619a65-fdb6-4305-fe6d-c92267a189a4"
      },
      "source": [
        "headings_list"
      ],
      "execution_count": 14,
      "outputs": [
        {
          "output_type": "execute_result",
          "data": {
            "text/plain": [
              "['The Beast Chicken Gyros Wrap',\n",
              " 'The Beast Chicken Gyros Box',\n",
              " 'The Beast Pork Gyros Wrap',\n",
              " 'The Beast Pork Gyros Box',\n",
              " 'The Beast Vegan Gyros Wrap (V)',\n",
              " 'The Beast Vegan Gyros Box (V)']"
            ]
          },
          "metadata": {},
          "execution_count": 14
        }
      ]
    },
    {
      "cell_type": "code",
      "metadata": {
        "colab": {
          "base_uri": "https://localhost:8080/"
        },
        "id": "xmjn7xLn3d9-",
        "outputId": "7691f0f2-3312-4c73-f3b8-de1cb805fbe3"
      },
      "source": [
        "[i.text for i in values]"
      ],
      "execution_count": 20,
      "outputs": [
        {
          "output_type": "execute_result",
          "data": {
            "text/plain": [
              "['\\n£8.9 \\n                  \\n                ',\n",
              " '\\n£10.9 \\n                  \\n                ',\n",
              " '\\n£8.9 \\n                  \\n                ',\n",
              " '\\n£10.9 \\n                  \\n                ',\n",
              " '\\n£8.9 \\n                  \\n                ',\n",
              " '\\n£10.9 \\n                  \\n                ']"
            ]
          },
          "metadata": {},
          "execution_count": 20
        }
      ]
    },
    {
      "cell_type": "code",
      "metadata": {
        "id": "t4tlbmp03cMw"
      },
      "source": [
        "values_list=[(i.text.replace('\\n','').replace('£','').replace('','')) for i in values]"
      ],
      "execution_count": 22,
      "outputs": []
    },
    {
      "cell_type": "code",
      "metadata": {
        "colab": {
          "base_uri": "https://localhost:8080/"
        },
        "id": "OCoFBeKU4RND",
        "outputId": "8b9bdeb2-6e7d-44b7-8653-aa4b3320b209"
      },
      "source": [
        "values_list"
      ],
      "execution_count": 23,
      "outputs": [
        {
          "output_type": "execute_result",
          "data": {
            "text/plain": [
              "['8.9                                   ',\n",
              " '10.9                                   ',\n",
              " '8.9                                   ',\n",
              " '10.9                                   ',\n",
              " '8.9                                   ',\n",
              " '10.9                                   ']"
            ]
          },
          "metadata": {},
          "execution_count": 23
        }
      ]
    },
    {
      "cell_type": "code",
      "metadata": {
        "id": "_lwYJV3i6YM6"
      },
      "source": [
        "df=pd.DataFrame([headings_list,values_list]).T"
      ],
      "execution_count": 26,
      "outputs": []
    },
    {
      "cell_type": "code",
      "metadata": {
        "id": "0OoX-kjQ6b4U"
      },
      "source": [
        "df.to_csv('hw7athenian.csv')"
      ],
      "execution_count": 27,
      "outputs": []
    }
  ]
}